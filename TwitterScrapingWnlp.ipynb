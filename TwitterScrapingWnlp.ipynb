{
 "cells": [
  {
   "cell_type": "code",
   "execution_count": 2,
   "metadata": {},
   "outputs": [],
   "source": [
    "import tweepy\n",
    "import pandas as pd"
   ]
  },
  {
   "cell_type": "code",
   "execution_count": 3,
   "metadata": {},
   "outputs": [],
   "source": [
    "#API key removed for GITHUB\n",
    "consumer_key = \"\"\n",
    "consumer_secret = \"\"\n",
    "access_token = \"\"\n",
    "access_token_secret = \"\"\n"
   ]
  },
  {
   "cell_type": "code",
   "execution_count": 4,
   "metadata": {},
   "outputs": [],
   "source": [
    "auth = tweepy.OAuthHandler(consumer_key, consumer_secret)\n",
    "auth.set_access_token(access_token, access_token_secret)\n",
    "api = tweepy.API(auth)"
   ]
  },
  {
   "cell_type": "code",
   "execution_count": 5,
   "metadata": {},
   "outputs": [],
   "source": [
    "nbre_of_tweets = 100\n",
    "tweets=[]\n",
    "likes=[]\n",
    "time=[]\n"
   ]
  },
  {
   "cell_type": "code",
   "execution_count": 6,
   "metadata": {},
   "outputs": [
    {
     "data": {
      "text/html": [
       "<div>\n",
       "<style scoped>\n",
       "    .dataframe tbody tr th:only-of-type {\n",
       "        vertical-align: middle;\n",
       "    }\n",
       "\n",
       "    .dataframe tbody tr th {\n",
       "        vertical-align: top;\n",
       "    }\n",
       "\n",
       "    .dataframe thead th {\n",
       "        text-align: right;\n",
       "    }\n",
       "</style>\n",
       "<table border=\"1\" class=\"dataframe\">\n",
       "  <thead>\n",
       "    <tr style=\"text-align: right;\">\n",
       "      <th></th>\n",
       "      <th>tweets</th>\n",
       "      <th>likes</th>\n",
       "      <th>time</th>\n",
       "    </tr>\n",
       "  </thead>\n",
       "  <tbody>\n",
       "    <tr>\n",
       "      <th>0</th>\n",
       "      <td>No matter where on Earth you are, it's time fo...</td>\n",
       "      <td>1547</td>\n",
       "      <td>2021-12-21 15:49:01</td>\n",
       "    </tr>\n",
       "    <tr>\n",
       "      <th>1</th>\n",
       "      <td>We don’t yet know what @NASAWebb will uncover....</td>\n",
       "      <td>1823</td>\n",
       "      <td>2021-12-21 14:05:52</td>\n",
       "    </tr>\n",
       "    <tr>\n",
       "      <th>2</th>\n",
       "      <td>Stage separation confirmed! The @SpaceX Dragon...</td>\n",
       "      <td>6437</td>\n",
       "      <td>2021-12-21 10:22:31</td>\n",
       "    </tr>\n",
       "    <tr>\n",
       "      <th>3</th>\n",
       "      <td>@GHCArmy 🎁 It is! The @Space_Station crew will...</td>\n",
       "      <td>81</td>\n",
       "      <td>2021-12-21 10:14:14</td>\n",
       "    </tr>\n",
       "    <tr>\n",
       "      <th>4</th>\n",
       "      <td>The @SpaceX #CRS24 Cargo Dragon successfully l...</td>\n",
       "      <td>2685</td>\n",
       "      <td>2021-12-21 10:10:07</td>\n",
       "    </tr>\n",
       "    <tr>\n",
       "      <th>...</th>\n",
       "      <td>...</td>\n",
       "      <td>...</td>\n",
       "      <td>...</td>\n",
       "    </tr>\n",
       "    <tr>\n",
       "      <th>95</th>\n",
       "      <td>Congratulations to the #IXPE team on a success...</td>\n",
       "      <td>3300</td>\n",
       "      <td>2021-12-09 07:12:26</td>\n",
       "    </tr>\n",
       "    <tr>\n",
       "      <th>96</th>\n",
       "      <td>@Buccatty @SpaceX We love sharing space with y...</td>\n",
       "      <td>19</td>\n",
       "      <td>2021-12-09 07:12:06</td>\n",
       "    </tr>\n",
       "    <tr>\n",
       "      <th>97</th>\n",
       "      <td>@rocketmunkey For sure! This might help, thoug...</td>\n",
       "      <td>12</td>\n",
       "      <td>2021-12-09 07:06:22</td>\n",
       "    </tr>\n",
       "    <tr>\n",
       "      <th>98</th>\n",
       "      <td>Separation confirmed! #IXPE is flying free fro...</td>\n",
       "      <td>6411</td>\n",
       "      <td>2021-12-09 06:40:24</td>\n",
       "    </tr>\n",
       "    <tr>\n",
       "      <th>99</th>\n",
       "      <td>RT @NASA_LSP: Second burn of the #Falcon9, whi...</td>\n",
       "      <td>0</td>\n",
       "      <td>2021-12-09 06:31:23</td>\n",
       "    </tr>\n",
       "  </tbody>\n",
       "</table>\n",
       "<p>100 rows × 3 columns</p>\n",
       "</div>"
      ],
      "text/plain": [
       "                                               tweets  likes  \\\n",
       "0   No matter where on Earth you are, it's time fo...   1547   \n",
       "1   We don’t yet know what @NASAWebb will uncover....   1823   \n",
       "2   Stage separation confirmed! The @SpaceX Dragon...   6437   \n",
       "3   @GHCArmy 🎁 It is! The @Space_Station crew will...     81   \n",
       "4   The @SpaceX #CRS24 Cargo Dragon successfully l...   2685   \n",
       "..                                                ...    ...   \n",
       "95  Congratulations to the #IXPE team on a success...   3300   \n",
       "96  @Buccatty @SpaceX We love sharing space with y...     19   \n",
       "97  @rocketmunkey For sure! This might help, thoug...     12   \n",
       "98  Separation confirmed! #IXPE is flying free fro...   6411   \n",
       "99  RT @NASA_LSP: Second burn of the #Falcon9, whi...      0   \n",
       "\n",
       "                  time  \n",
       "0  2021-12-21 15:49:01  \n",
       "1  2021-12-21 14:05:52  \n",
       "2  2021-12-21 10:22:31  \n",
       "3  2021-12-21 10:14:14  \n",
       "4  2021-12-21 10:10:07  \n",
       "..                 ...  \n",
       "95 2021-12-09 07:12:26  \n",
       "96 2021-12-09 07:12:06  \n",
       "97 2021-12-09 07:06:22  \n",
       "98 2021-12-09 06:40:24  \n",
       "99 2021-12-09 06:31:23  \n",
       "\n",
       "[100 rows x 3 columns]"
      ]
     },
     "execution_count": 6,
     "metadata": {},
     "output_type": "execute_result"
    }
   ],
   "source": [
    "for i in tweepy.Cursor(api.user_timeline, id='NASA', tweet_mode=\"extended\").items(nbre_of_tweets):\n",
    "    tweets.append(i.full_text)\n",
    "    likes.append(i.favorite_count)\n",
    "    time.append(i.created_at)\n",
    "df = pd.DataFrame({'tweets':tweets, 'likes':likes, 'time':time})\n",
    "df\n"
   ]
  },
  {
   "cell_type": "code",
   "execution_count": 7,
   "metadata": {},
   "outputs": [
    {
     "data": {
      "text/html": [
       "<div>\n",
       "<style scoped>\n",
       "    .dataframe tbody tr th:only-of-type {\n",
       "        vertical-align: middle;\n",
       "    }\n",
       "\n",
       "    .dataframe tbody tr th {\n",
       "        vertical-align: top;\n",
       "    }\n",
       "\n",
       "    .dataframe thead th {\n",
       "        text-align: right;\n",
       "    }\n",
       "</style>\n",
       "<table border=\"1\" class=\"dataframe\">\n",
       "  <thead>\n",
       "    <tr style=\"text-align: right;\">\n",
       "      <th></th>\n",
       "      <th>tweets</th>\n",
       "      <th>likes</th>\n",
       "      <th>time</th>\n",
       "    </tr>\n",
       "  </thead>\n",
       "  <tbody>\n",
       "    <tr>\n",
       "      <th>0</th>\n",
       "      <td>No matter where on Earth you are, it's time fo...</td>\n",
       "      <td>1547</td>\n",
       "      <td>2021-12-21 15:49:01</td>\n",
       "    </tr>\n",
       "    <tr>\n",
       "      <th>1</th>\n",
       "      <td>We don’t yet know what @NASAWebb will uncover....</td>\n",
       "      <td>1823</td>\n",
       "      <td>2021-12-21 14:05:52</td>\n",
       "    </tr>\n",
       "    <tr>\n",
       "      <th>2</th>\n",
       "      <td>Stage separation confirmed! The @SpaceX Dragon...</td>\n",
       "      <td>6437</td>\n",
       "      <td>2021-12-21 10:22:31</td>\n",
       "    </tr>\n",
       "    <tr>\n",
       "      <th>3</th>\n",
       "      <td>@GHCArmy 🎁 It is! The @Space_Station crew will...</td>\n",
       "      <td>81</td>\n",
       "      <td>2021-12-21 10:14:14</td>\n",
       "    </tr>\n",
       "    <tr>\n",
       "      <th>4</th>\n",
       "      <td>The @SpaceX #CRS24 Cargo Dragon successfully l...</td>\n",
       "      <td>2685</td>\n",
       "      <td>2021-12-21 10:10:07</td>\n",
       "    </tr>\n",
       "    <tr>\n",
       "      <th>...</th>\n",
       "      <td>...</td>\n",
       "      <td>...</td>\n",
       "      <td>...</td>\n",
       "    </tr>\n",
       "    <tr>\n",
       "      <th>82</th>\n",
       "      <td>Looking for a shooting star to wish on?\\n\\nYou...</td>\n",
       "      <td>3377</td>\n",
       "      <td>2021-12-09 22:52:45</td>\n",
       "    </tr>\n",
       "    <tr>\n",
       "      <th>83</th>\n",
       "      <td>Congratulations to the #IXPE team on a success...</td>\n",
       "      <td>3300</td>\n",
       "      <td>2021-12-09 07:12:26</td>\n",
       "    </tr>\n",
       "    <tr>\n",
       "      <th>84</th>\n",
       "      <td>@Buccatty @SpaceX We love sharing space with y...</td>\n",
       "      <td>19</td>\n",
       "      <td>2021-12-09 07:12:06</td>\n",
       "    </tr>\n",
       "    <tr>\n",
       "      <th>85</th>\n",
       "      <td>@rocketmunkey For sure! This might help, thoug...</td>\n",
       "      <td>12</td>\n",
       "      <td>2021-12-09 07:06:22</td>\n",
       "    </tr>\n",
       "    <tr>\n",
       "      <th>86</th>\n",
       "      <td>Separation confirmed! #IXPE is flying free fro...</td>\n",
       "      <td>6411</td>\n",
       "      <td>2021-12-09 06:40:24</td>\n",
       "    </tr>\n",
       "  </tbody>\n",
       "</table>\n",
       "<p>87 rows × 3 columns</p>\n",
       "</div>"
      ],
      "text/plain": [
       "                                               tweets  likes  \\\n",
       "0   No matter where on Earth you are, it's time fo...   1547   \n",
       "1   We don’t yet know what @NASAWebb will uncover....   1823   \n",
       "2   Stage separation confirmed! The @SpaceX Dragon...   6437   \n",
       "3   @GHCArmy 🎁 It is! The @Space_Station crew will...     81   \n",
       "4   The @SpaceX #CRS24 Cargo Dragon successfully l...   2685   \n",
       "..                                                ...    ...   \n",
       "82  Looking for a shooting star to wish on?\\n\\nYou...   3377   \n",
       "83  Congratulations to the #IXPE team on a success...   3300   \n",
       "84  @Buccatty @SpaceX We love sharing space with y...     19   \n",
       "85  @rocketmunkey For sure! This might help, thoug...     12   \n",
       "86  Separation confirmed! #IXPE is flying free fro...   6411   \n",
       "\n",
       "                  time  \n",
       "0  2021-12-21 15:49:01  \n",
       "1  2021-12-21 14:05:52  \n",
       "2  2021-12-21 10:22:31  \n",
       "3  2021-12-21 10:14:14  \n",
       "4  2021-12-21 10:10:07  \n",
       "..                 ...  \n",
       "82 2021-12-09 22:52:45  \n",
       "83 2021-12-09 07:12:26  \n",
       "84 2021-12-09 07:12:06  \n",
       "85 2021-12-09 07:06:22  \n",
       "86 2021-12-09 06:40:24  \n",
       "\n",
       "[87 rows x 3 columns]"
      ]
     },
     "execution_count": 7,
     "metadata": {},
     "output_type": "execute_result"
    }
   ],
   "source": [
    "#Enlever les RT\n",
    "df = df[~df.tweets.str.contains(\"RT\")]\n",
    "df = df.reset_index(drop=True)\n",
    "df"
   ]
  },
  {
   "cell_type": "code",
   "execution_count": 8,
   "metadata": {},
   "outputs": [
    {
     "data": {
      "text/html": [
       "<div>\n",
       "<style scoped>\n",
       "    .dataframe tbody tr th:only-of-type {\n",
       "        vertical-align: middle;\n",
       "    }\n",
       "\n",
       "    .dataframe tbody tr th {\n",
       "        vertical-align: top;\n",
       "    }\n",
       "\n",
       "    .dataframe thead th {\n",
       "        text-align: right;\n",
       "    }\n",
       "</style>\n",
       "<table border=\"1\" class=\"dataframe\">\n",
       "  <thead>\n",
       "    <tr style=\"text-align: right;\">\n",
       "      <th></th>\n",
       "      <th>tweets</th>\n",
       "      <th>likes</th>\n",
       "      <th>time</th>\n",
       "    </tr>\n",
       "  </thead>\n",
       "  <tbody>\n",
       "    <tr>\n",
       "      <th>58</th>\n",
       "      <td>☀️ Our #ParkerSolarProbe has touched the Sun!\\...</td>\n",
       "      <td>16320</td>\n",
       "      <td>2021-12-14 17:33:40</td>\n",
       "    </tr>\n",
       "    <tr>\n",
       "      <th>16</th>\n",
       "      <td>It’s not scifi. It’s the real deal.\\n\\nOur @NA...</td>\n",
       "      <td>9826</td>\n",
       "      <td>2021-12-19 18:53:03</td>\n",
       "    </tr>\n",
       "    <tr>\n",
       "      <th>14</th>\n",
       "      <td>LIVE NOW: Soyuz spacecraft carrying three crew...</td>\n",
       "      <td>8668</td>\n",
       "      <td>2021-12-19 23:30:01</td>\n",
       "    </tr>\n",
       "    <tr>\n",
       "      <th>19</th>\n",
       "      <td>Coming up for the @NASAWebb telescope (UTC-5):...</td>\n",
       "      <td>6909</td>\n",
       "      <td>2021-12-18 19:17:04</td>\n",
       "    </tr>\n",
       "    <tr>\n",
       "      <th>35</th>\n",
       "      <td>3.9 billion light-years from Earth, a pair of ...</td>\n",
       "      <td>6642</td>\n",
       "      <td>2021-12-16 22:24:41</td>\n",
       "    </tr>\n",
       "  </tbody>\n",
       "</table>\n",
       "</div>"
      ],
      "text/plain": [
       "                                               tweets  likes  \\\n",
       "58  ☀️ Our #ParkerSolarProbe has touched the Sun!\\...  16320   \n",
       "16  It’s not scifi. It’s the real deal.\\n\\nOur @NA...   9826   \n",
       "14  LIVE NOW: Soyuz spacecraft carrying three crew...   8668   \n",
       "19  Coming up for the @NASAWebb telescope (UTC-5):...   6909   \n",
       "35  3.9 billion light-years from Earth, a pair of ...   6642   \n",
       "\n",
       "                  time  \n",
       "58 2021-12-14 17:33:40  \n",
       "16 2021-12-19 18:53:03  \n",
       "14 2021-12-19 23:30:01  \n",
       "19 2021-12-18 19:17:04  \n",
       "35 2021-12-16 22:24:41  "
      ]
     },
     "execution_count": 8,
     "metadata": {},
     "output_type": "execute_result"
    }
   ],
   "source": [
    "#Le plus de like\n",
    "mostlike = df.loc[df.likes.nlargest(5).index]\n",
    "mostlike"
   ]
  },
  {
   "cell_type": "code",
   "execution_count": 9,
   "metadata": {},
   "outputs": [],
   "source": [
    "#cursor = tweepy.cursor(api.user_timeline, id='realDonaldTrump',\n",
    "#                       tweet_mode=\"extended\").items(nbre_of_tweets)\n",
    "##cursor = tweepy.cursor(api.search, q=\"Bitcoin\", tweet_mode=\"extended\").items(nbre)\n",
    "\n",
    "#for i in cursor:\n",
    "#    print(i.full_text)\n",
    "    \n"
   ]
  },
  {
   "cell_type": "code",
   "execution_count": 10,
   "metadata": {},
   "outputs": [],
   "source": [
    "import matplotlib.pyplot as plt\n",
    "import re\n",
    "import spacy\n",
    "nlp = spacy.load('en_core_web_lg')\n",
    "import seaborn as sns\n"
   ]
  },
  {
   "cell_type": "code",
   "execution_count": 11,
   "metadata": {},
   "outputs": [],
   "source": [
    "list_of_sentences = [sentence for sentence in df.tweets]\n",
    "lines =[]\n",
    "for sentence in list_of_sentences:\n",
    "    words = sentence.split()\n",
    "    for w in words:\n",
    "        lines.append(w)\n",
    "        "
   ]
  },
  {
   "cell_type": "code",
   "execution_count": 12,
   "metadata": {},
   "outputs": [],
   "source": [
    "lines = [re.sub(r'[^A-Za-z0-9]+','',x)for x in lines]\n",
    "lines2=[]\n",
    "for word in lines:\n",
    "    if word !='':\n",
    "        lines2.append(word)"
   ]
  },
  {
   "cell_type": "code",
   "execution_count": 13,
   "metadata": {},
   "outputs": [],
   "source": [
    "from nltk.stem.snowball import SnowballStemmer\n",
    "s_stemmer = SnowballStemmer(language='english')\n",
    "\n",
    "stem=[]\n",
    "for word in lines2:\n",
    "    stem.append(s_stemmer.stem(word))"
   ]
  },
  {
   "cell_type": "code",
   "execution_count": 14,
   "metadata": {},
   "outputs": [],
   "source": [
    "stem2=[]\n",
    "for word in stem:\n",
    "    if word not in nlp.Defaults.stop_words:\n",
    "        stem2.append(word)"
   ]
  },
  {
   "cell_type": "code",
   "execution_count": 15,
   "metadata": {},
   "outputs": [],
   "source": [
    "df2 = pd.DataFrame(stem2)\n",
    "df2 = df2[0].value_counts()"
   ]
  },
  {
   "cell_type": "code",
   "execution_count": 28,
   "metadata": {},
   "outputs": [
    {
     "name": "stderr",
     "output_type": "stream",
     "text": [
      "/home/cytech/anaconda3/envs/myenv/lib/python3.8/site-packages/seaborn/_decorators.py:36: FutureWarning: Pass the following variables as keyword args: x, y. From version 0.12, the only valid positional argument will be `data`, and passing other arguments without an explicit keyword will result in an error or misinterpretation.\n",
      "  warnings.warn(\n"
     ]
    },
    {
     "data": {
      "image/png": "[encoded data removed]",
      "text/plain": [
       "<Figure size 720x360 with 1 Axes>"
      ]
     },
     "metadata": {
      "needs_background": "light"
     },
     "output_type": "display_data"
    }
   ],
   "source": [
    "df2 = df2[:20, ]\n",
    "plt.figure(figsize=(10, 5))\n",
    "sns.barplot(df2.values, df2.index, alpha=1)\n",
    "plt.title('Top Words Overall')\n",
    "plt.ylabel('Word from Tweet', fontsize=12)\n",
    "plt.xlabel('Count of Words', fontsize=12)\n",
    "plt.show()\n"
   ]
  },
  {
   "cell_type": "code",
   "execution_count": 29,
   "metadata": {},
   "outputs": [],
   "source": [
    "def show_ents(doc):\n",
    "    if doc.ents:\n",
    "        for ent in doc.ents:\n",
    "            print(ent.text + ' - ' + ent.label_ + ' - ' + str(spacy.explain(ent.label_)))"
   ]
  },
  {
   "cell_type": "code",
   "execution_count": 18,
   "metadata": {},
   "outputs": [],
   "source": [
    "str1 = \" \"\n",
    "stem2 = str1.join(lines2)\n",
    "\n",
    "stem2 = nlp(stem2)\n",
    "\n",
    "label = [(X.text, X.label_) for X in stem2.ents]\n",
    "\n",
    "df6 = pd.DataFrame(label, columns=['Word', 'Entity'])\n",
    "\n",
    "df7 = df6.where(df6['Entity'] == 'ORG')\n",
    "\n",
    "df7 = df7['Word'].value_counts()\n"
   ]
  },
  {
   "cell_type": "code",
   "execution_count": 19,
   "metadata": {},
   "outputs": [
    {
     "name": "stderr",
     "output_type": "stream",
     "text": [
      "/home/cytech/anaconda3/envs/myenv/lib/python3.8/site-packages/seaborn/_decorators.py:36: FutureWarning: Pass the following variables as keyword args: x, y. From version 0.12, the only valid positional argument will be `data`, and passing other arguments without an explicit keyword will result in an error or misinterpretation.\n",
      "  warnings.warn(\n"
     ]
    },
    {
     "data": {
      "image/png": "[encoded data removed]",
      "text/plain": [
       "<Figure size 720x360 with 1 Axes>"
      ]
     },
     "metadata": {
      "needs_background": "light"
     },
     "output_type": "display_data"
    }
   ],
   "source": [
    "dfx = df7[:20, ]\n",
    "plt.figure(figsize=(10, 5))\n",
    "sns.barplot(dfx.values, dfx.index, alpha=1)\n",
    "plt.title('Top Organizations Mentioned')\n",
    "plt.ylabel('Word from Tweet', fontsize=12)\n",
    "plt.xlabel('Count of Words', fontsize=12)\n",
    "plt.show()\n"
   ]
  },
  {
   "cell_type": "code",
   "execution_count": 20,
   "metadata": {},
   "outputs": [],
   "source": [
    "str1 = \" \"\n",
    "stem2 = str1.join(lines2)\n",
    "\n",
    "stem2 = nlp(stem2)\n",
    "\n",
    "label = [(X.text, X.label_) for X in stem2.ents]\n",
    "\n",
    "df10 = pd.DataFrame(label, columns=['Word', 'Entity'])\n",
    "\n",
    "df10 = df10.where(df10['Entity'] == 'PERSON')\n",
    "\n",
    "df11 = df10['Word'].value_counts()\n"
   ]
  },
  {
   "cell_type": "code",
   "execution_count": 21,
   "metadata": {},
   "outputs": [
    {
     "name": "stderr",
     "output_type": "stream",
     "text": [
      "/home/cytech/anaconda3/envs/myenv/lib/python3.8/site-packages/seaborn/_decorators.py:36: FutureWarning: Pass the following variables as keyword args: x, y. From version 0.12, the only valid positional argument will be `data`, and passing other arguments without an explicit keyword will result in an error or misinterpretation.\n",
      "  warnings.warn(\n"
     ]
    },
    {
     "data": {
      "image/png": "[encoded data removed]",
      "text/plain": [
       "<Figure size 720x360 with 1 Axes>"
      ]
     },
     "metadata": {
      "needs_background": "light"
     },
     "output_type": "display_data"
    }
   ],
   "source": [
    "dfy = df11[:20, ]\n",
    "plt.figure(figsize=(10, 5))\n",
    "sns.barplot(dfy.values, dfy.index, alpha=0.8)\n",
    "plt.title('Top People Mentioned')\n",
    "plt.ylabel('Word from Tweet', fontsize=12)\n",
    "plt.xlabel('Count of Words', fontsize=12)\n",
    "plt.show()\n"
   ]
  }
 ],
 "metadata": {
  "interpreter": {
   "hash": "8e38719ae7667d9c59de2772ba161503cb25d3b046b62309b22af3a1fd9275ae"
  },
  "kernelspec": {
   "display_name": "Python 3.8.10 64-bit ('myenv': conda)",
   "language": "python",
   "name": "python3"
  },
  "language_info": {
   "codemirror_mode": {
    "name": "ipython",
    "version": 3
   },
   "file_extension": ".py",
   "mimetype": "text/x-python",
   "name": "python",
   "nbconvert_exporter": "python",
   "pygments_lexer": "ipython3",
   "version": "3.8.10"
  },
  "orig_nbformat": 4
 },
 "nbformat": 4,
 "nbformat_minor": 2
}
